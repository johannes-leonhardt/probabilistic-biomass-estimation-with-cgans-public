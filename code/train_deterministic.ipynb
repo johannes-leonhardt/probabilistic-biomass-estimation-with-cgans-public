{
 "cells": [
  {
   "cell_type": "markdown",
   "metadata": {},
   "source": [
    "## IMPORTS"
   ]
  },
  {
   "cell_type": "code",
   "execution_count": null,
   "metadata": {},
   "outputs": [],
   "source": [
    "import os\n",
    "import pathlib\n",
    "import time\n",
    "from datetime import datetime\n",
    "\n",
    "import numpy as np\n",
    "import matplotlib.pyplot as plt\n",
    "import torch\n",
    "import torch.nn as nn\n",
    "import torch.optim as optim\n",
    "from tqdm import tqdm\n",
    "\n",
    "import deterministic\n",
    "import dataset as dst\n",
    "\n",
    "plt.rcParams.update({'figure.figsize': (12, 12)})\n",
    "plt.rcParams.update({'font.size': 20})\n",
    "print(\"Using CUDA?\", torch.cuda.is_available())\n",
    "\n",
    "%load_ext autoreload\n",
    "%autoreload 2"
   ]
  },
  {
   "cell_type": "markdown",
   "metadata": {},
   "source": [
    "## SETTINGS, PRELIMINARIES"
   ]
  },
  {
   "cell_type": "code",
   "execution_count": null,
   "metadata": {},
   "outputs": [],
   "source": [
    "path_to_project = pathlib.Path(os.getcwd()).parent\n",
    "\n",
    "data_path = os.path.join(path_to_project, 'data')\n",
    "result_path = os.path.join(path_to_project, 'results', 'deterministic', datetime.now().strftime('%Y_%m_%d_%H_%M'))\n",
    "figure_path = os.path.join(result_path, 'figures')\n",
    "model_path = os.path.join(result_path, 'models')\n",
    "\n",
    "try:\n",
    "    os.mkdir(result_path)\n",
    "    os.mkdir(figure_path)\n",
    "    os.mkdir(model_path)\n",
    "except FileExistsError:\n",
    "    print(\"The result directory already exists. Its contents may be overwritten!\")\n",
    "\n",
    "print(\"Results are being saved to\", result_path)"
   ]
  },
  {
   "cell_type": "markdown",
   "metadata": {},
   "source": [
    "## HYPERPARAMETERS"
   ]
  },
  {
   "cell_type": "code",
   "execution_count": null,
   "metadata": {},
   "outputs": [],
   "source": [
    "PARAMS = {\n",
    "    'PATCH_SIZE': 64,\n",
    "    'BATCH_SIZE': 128,\n",
    "    'LEARNING_RATE': 5e-5,\n",
    "    'ITS': 2000 + 1,\n",
    "    'LOSS_FUNC' : nn.MSELoss()\n",
    "}\n",
    "\n",
    "with open(os.path.join(result_path, 'params.txt'), \"w\") as log:\n",
    "    print(PARAMS, file=log)"
   ]
  },
  {
   "cell_type": "markdown",
   "metadata": {},
   "source": [
    "## DATASETS"
   ]
  },
  {
   "cell_type": "code",
   "execution_count": null,
   "metadata": {},
   "outputs": [],
   "source": [
    "training_ds = dst.AgbDataset(\n",
    "    os.path.join(data_path, 'training'), \n",
    "    patch_size = PARAMS['PATCH_SIZE']\n",
    ")\n",
    "\n",
    "validation_ds = dst.AgbDataset(\n",
    "    os.path.join(data_path, 'validation'), \n",
    "    patch_size = PARAMS['PATCH_SIZE']\n",
    ")\n",
    "\n",
    "testing_ds = dst.AgbDataset(\n",
    "    os.path.join(data_path, 'testing'), \n",
    "    patch_size = PARAMS['PATCH_SIZE']\n",
    ")\n",
    "\n",
    "idx = 0\n",
    "\n",
    "testing_ds.show(idx)\n",
    "plt.savefig(os.path.join(figure_path, \"obs_bm.png\"))"
   ]
  },
  {
   "cell_type": "markdown",
   "metadata": {},
   "source": [
    "## INITIALIZE NETWORK AND OPTIMIZER"
   ]
  },
  {
   "cell_type": "code",
   "execution_count": null,
   "metadata": {},
   "outputs": [],
   "source": [
    "net = deterministic.Deterministic()\n",
    "\n",
    "opt = optim.RMSprop(net.parameters(), lr=PARAMS['LEARNING_RATE'])"
   ]
  },
  {
   "cell_type": "markdown",
   "metadata": {},
   "source": [
    "## TRAINING"
   ]
  },
  {
   "cell_type": "code",
   "execution_count": null,
   "metadata": {},
   "outputs": [],
   "source": [
    "start = time.time()\n",
    "\n",
    "min_rmse = np.inf\n",
    "\n",
    "rmse_log = []\n",
    "\n",
    "for it in tqdm(range(PARAMS['ITS'])):\n",
    "\n",
    "    # Training\n",
    "    l, x = training_ds.get_batch(PARAMS['BATCH_SIZE'])\n",
    "    loss = net.training_iteration(l, x, loss_func=PARAMS['LOSS_FUNC'], optimizer=opt)\n",
    "\n",
    "    # Validation\n",
    "    if it % 100 == 0:\n",
    "        rmse = deterministic.evaluate_net_on_ds(net, validation_ds)\n",
    "        rmse_log.append(rmse)\n",
    "\n",
    "        if rmse < min_rmse:\n",
    "            torch.save(net.state_dict(), os.path.join(model_path, 'net.pt'))\n",
    "            min_rmse = rmse\n",
    "\n",
    "net.load_state_dict(torch.load(os.path.join(model_path, 'net.pt')))\n",
    "\n",
    "stop = time.time()"
   ]
  },
  {
   "cell_type": "markdown",
   "metadata": {},
   "source": [
    "## LOSS CURVE"
   ]
  },
  {
   "cell_type": "code",
   "execution_count": null,
   "metadata": {},
   "outputs": [],
   "source": [
    "plt.figure()\n",
    "plt.plot(np.arange(len(rmse_log)) * 100, np.array(rmse_log), 'g-')\n",
    "plt.xlabel('Epochs')\n",
    "plt.ylabel('RMSE', color='g')\n",
    "\n",
    "plt.savefig(os.path.join(figure_path, f\"losscurve.png\"))"
   ]
  },
  {
   "cell_type": "markdown",
   "metadata": {},
   "source": [
    "## EVALUATE NETWORK AND SHOW RESULT"
   ]
  },
  {
   "cell_type": "code",
   "execution_count": null,
   "metadata": {},
   "outputs": [],
   "source": [
    "rmse_val = deterministic.evaluate_net_on_ds(net, validation_ds)\n",
    "rmse_tst = deterministic.evaluate_net_on_ds(net, testing_ds)\n",
    "\n",
    "l, x = testing_ds.get_full(idx)\n",
    "x = dst.unnormalize_x(x)\n",
    "\n",
    "net.apply(l, fig=True, x=x)\n",
    "plt.savefig(os.path.join(figure_path, \"est.png\"))"
   ]
  },
  {
   "cell_type": "markdown",
   "metadata": {},
   "source": [
    "## LOG RESULTS"
   ]
  },
  {
   "cell_type": "code",
   "execution_count": null,
   "metadata": {},
   "outputs": [],
   "source": [
    "with open(os.path.join(result_path, 'res.txt'), \"w\") as log:\n",
    "    print(\"Training took\", stop-start, \"seconds.\", file=log)\n",
    "    print(f\"Final Validation - RMSE: {rmse_val}\", file=log)\n",
    "    print(f\"Final Test - RMSE: {rmse_tst}\", file=log)"
   ]
  }
 ],
 "metadata": {
  "kernelspec": {
   "display_name": "Python 3.10.6 ('agb_cgan')",
   "language": "python",
   "name": "python3"
  },
  "language_info": {
   "codemirror_mode": {
    "name": "ipython",
    "version": 3
   },
   "file_extension": ".py",
   "mimetype": "text/x-python",
   "name": "python",
   "nbconvert_exporter": "python",
   "pygments_lexer": "ipython3",
   "version": "3.10.6"
  },
  "orig_nbformat": 4,
  "vscode": {
   "interpreter": {
    "hash": "6a8915b0417a0690f49903a99daf833c45a0b5865c61e8bfe5d61e124b6dbc1f"
   }
  }
 },
 "nbformat": 4,
 "nbformat_minor": 2
}
